{
 "cells": [
  {
   "cell_type": "code",
   "execution_count": 1,
   "id": "63cd1b59",
   "metadata": {},
   "outputs": [
    {
     "ename": "ModuleNotFoundError",
     "evalue": "No module named 'ipyleaflet'",
     "output_type": "error",
     "traceback": [
      "\u001b[0;31m---------------------------------------------------------------------------\u001b[0m",
      "\u001b[0;31mModuleNotFoundError\u001b[0m                       Traceback (most recent call last)",
      "Cell \u001b[0;32mIn [1], line 1\u001b[0m\n\u001b[0;32m----> 1\u001b[0m \u001b[38;5;28;01mfrom\u001b[39;00m \u001b[38;5;21;01mipyleaflet\u001b[39;00m \u001b[38;5;28;01mimport\u001b[39;00m Map, Marker, basemaps, WidgetControl\n\u001b[1;32m      2\u001b[0m \u001b[38;5;28;01mimport\u001b[39;00m \u001b[38;5;21;01mipywidgets\u001b[39;00m \u001b[38;5;28;01mas\u001b[39;00m \u001b[38;5;21;01mwidgets\u001b[39;00m\n\u001b[1;32m      3\u001b[0m \u001b[38;5;28;01mimport\u001b[39;00m \u001b[38;5;21;01mtime\u001b[39;00m\n",
      "\u001b[0;31mModuleNotFoundError\u001b[0m: No module named 'ipyleaflet'"
     ]
    }
   ],
   "source": [
    "from ipyleaflet import Map, Marker, basemaps, WidgetControl\n",
    "import ipywidgets as widgets\n",
    "import time\n",
    "from IPython.display import display\n",
    "\n",
    "def mostrar_rastreo(coordenadas):\n",
    "    # Crear un objeto de mapa centrado en la primera coordenada\n",
    "    mapa = Map(center=coordenadas[0], zoom=12, basemap=basemaps.OpenStreetMap.Mapnik)\n",
    "\n",
    "    # Agregar el control de marcador\n",
    "    marcador = Marker(location=coordenadas[0])\n",
    "    mapa.add_layer(marcador)\n",
    "\n",
    "    # Mostrar el mapa inicial\n",
    "    display(mapa)\n",
    "\n",
    "    # Iterar sobre las coordenadas y actualizar el marcador con un retardo de 2 segundos\n",
    "    for coordenada in coordenadas[1:]:\n",
    "        # Actualizar la ubicación del marcador\n",
    "        marcador.location = coordenada\n",
    "\n",
    "        # Mostrar el mapa actualizado\n",
    "        display(mapa)\n",
    "\n",
    "        time.sleep(2)  # Retardo de 2 segundos\n",
    "\n",
    "# Lista de coordenadas (ejemplo)\n",
    "lista_coordenadas = [\n",
    "    (40.7128, -74.0060),  # Nueva York\n",
    "    (34.0522, -118.2437),  # Los Ángeles\n",
    "    (51.5074, -0.1278),  # Londres\n",
    "    (48.8566, 2.3522),  # París\n",
    "    (55.7558, 37.6176)  # Moscú\n",
    "]\n",
    "\n",
    "mostrar_rastreo(lista_coordenadas)\n"
   ]
  },
  {
   "cell_type": "code",
   "execution_count": null,
   "id": "6c0d25be",
   "metadata": {},
   "outputs": [],
   "source": []
  }
 ],
 "metadata": {
  "kernelspec": {
   "display_name": "Python 3 (ipykernel)",
   "language": "python",
   "name": "python3"
  },
  "language_info": {
   "codemirror_mode": {
    "name": "ipython",
    "version": 3
   },
   "file_extension": ".py",
   "mimetype": "text/x-python",
   "name": "python",
   "nbconvert_exporter": "python",
   "pygments_lexer": "ipython3",
   "version": "3.11.4"
  }
 },
 "nbformat": 4,
 "nbformat_minor": 5
}
